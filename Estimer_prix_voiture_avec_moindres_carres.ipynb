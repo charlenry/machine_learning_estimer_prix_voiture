{
 "cells": [
  {
   "cell_type": "markdown",
   "metadata": {},
   "source": [
    "<p align=\"center\"><font size=\"6\"><b>Notebook de Charles-Henri SAINT-MARS</b></font></p>"
   ]
  },
  {
   "cell_type": "markdown",
   "metadata": {},
   "source": [
    "## **Projet de Machine Learning pour estimer le prix d'une voiture d'occasion**\n",
    "### Exercice réalisé à partir du cours de Machine Learning de José AFOUDA\n",
    "Lien du cours : https://www.youtube.com/watch?v=7-WsA_arUpg"
   ]
  },
  {
   "cell_type": "markdown",
   "metadata": {},
   "source": [
    "### <font color=\"red\">Scénario du projet :</font>\n",
    "Vous avez <u>une entreprise de développement d'applications mobiles</u>  et votre nouveau projet concerne la création d'une application qui met en relation des vendeurs de voitures d'occasion et des potentiels clients. Vous aimeriez ajouter une nouvelle fonctionnalité à cette application: celle de donner la possibilité aux utilisateurs de l'application de connaître le prix correct auquel ils peuvent acheter ou vendre une voiture d'occasion d'après les caractéristiques qu'ils souhaitent afin de ne pas se faire arnaquer par des vendeurs.\n",
    "\n",
    "Ensuite l'application devra avertir un potentiel acheteur si la voiture qui l'intéresse est au prix \"juste\" et aussi avertir un vendeur si le prix auquel il veut vendre sa voiture est approprié.\n",
    "\n",
    "Après avoir collecté des données de caractéristiques de plusieurs centaines de voitures d'occasion ainsi que leur prix de vente sur des plate-formes dédiées, vous décidez donc de construire un modèle de Machine Learning capable de prédire le prix d'une voiture en fonction de ses caractéristiques."
   ]
  },
  {
   "cell_type": "markdown",
   "metadata": {},
   "source": [
    "### <font color=\"red\">Importation des modules</font>"
   ]
  },
  {
   "cell_type": "code",
   "execution_count": 1,
   "metadata": {},
   "outputs": [],
   "source": [
    "# Importation des modules\n",
    "import numpy as np\n",
    "import pandas as pd\n",
    "import matplotlib.pyplot as plt\n",
    "import joblib as jb # Pour sauvegarder le modèle"
   ]
  },
  {
   "cell_type": "markdown",
   "metadata": {},
   "source": [
    "### <font color=\"red\">Importation des données</font>"
   ]
  },
  {
   "cell_type": "code",
   "execution_count": 2,
   "metadata": {},
   "outputs": [
    {
     "data": {
      "text/html": [
       "<div>\n",
       "<style scoped>\n",
       "    .dataframe tbody tr th:only-of-type {\n",
       "        vertical-align: middle;\n",
       "    }\n",
       "\n",
       "    .dataframe tbody tr th {\n",
       "        vertical-align: top;\n",
       "    }\n",
       "\n",
       "    .dataframe thead th {\n",
       "        text-align: right;\n",
       "    }\n",
       "</style>\n",
       "<table border=\"1\" class=\"dataframe\">\n",
       "  <thead>\n",
       "    <tr style=\"text-align: right;\">\n",
       "      <th></th>\n",
       "      <th>3</th>\n",
       "      <th>?</th>\n",
       "      <th>alfa-romero</th>\n",
       "      <th>gas</th>\n",
       "      <th>std</th>\n",
       "      <th>two</th>\n",
       "      <th>convertible</th>\n",
       "      <th>rwd</th>\n",
       "      <th>front</th>\n",
       "      <th>88.60</th>\n",
       "      <th>...</th>\n",
       "      <th>130</th>\n",
       "      <th>mpfi</th>\n",
       "      <th>3.47</th>\n",
       "      <th>2.68</th>\n",
       "      <th>9.00</th>\n",
       "      <th>111</th>\n",
       "      <th>5000</th>\n",
       "      <th>21</th>\n",
       "      <th>27</th>\n",
       "      <th>13495</th>\n",
       "    </tr>\n",
       "  </thead>\n",
       "  <tbody>\n",
       "    <tr>\n",
       "      <th>0</th>\n",
       "      <td>3</td>\n",
       "      <td>?</td>\n",
       "      <td>alfa-romero</td>\n",
       "      <td>gas</td>\n",
       "      <td>std</td>\n",
       "      <td>two</td>\n",
       "      <td>convertible</td>\n",
       "      <td>rwd</td>\n",
       "      <td>front</td>\n",
       "      <td>88.6</td>\n",
       "      <td>...</td>\n",
       "      <td>130</td>\n",
       "      <td>mpfi</td>\n",
       "      <td>3.47</td>\n",
       "      <td>2.68</td>\n",
       "      <td>9.0</td>\n",
       "      <td>111</td>\n",
       "      <td>5000</td>\n",
       "      <td>21</td>\n",
       "      <td>27</td>\n",
       "      <td>16500</td>\n",
       "    </tr>\n",
       "    <tr>\n",
       "      <th>1</th>\n",
       "      <td>1</td>\n",
       "      <td>?</td>\n",
       "      <td>alfa-romero</td>\n",
       "      <td>gas</td>\n",
       "      <td>std</td>\n",
       "      <td>two</td>\n",
       "      <td>hatchback</td>\n",
       "      <td>rwd</td>\n",
       "      <td>front</td>\n",
       "      <td>94.5</td>\n",
       "      <td>...</td>\n",
       "      <td>152</td>\n",
       "      <td>mpfi</td>\n",
       "      <td>2.68</td>\n",
       "      <td>3.47</td>\n",
       "      <td>9.0</td>\n",
       "      <td>154</td>\n",
       "      <td>5000</td>\n",
       "      <td>19</td>\n",
       "      <td>26</td>\n",
       "      <td>16500</td>\n",
       "    </tr>\n",
       "    <tr>\n",
       "      <th>2</th>\n",
       "      <td>2</td>\n",
       "      <td>164</td>\n",
       "      <td>audi</td>\n",
       "      <td>gas</td>\n",
       "      <td>std</td>\n",
       "      <td>four</td>\n",
       "      <td>sedan</td>\n",
       "      <td>fwd</td>\n",
       "      <td>front</td>\n",
       "      <td>99.8</td>\n",
       "      <td>...</td>\n",
       "      <td>109</td>\n",
       "      <td>mpfi</td>\n",
       "      <td>3.19</td>\n",
       "      <td>3.40</td>\n",
       "      <td>10.0</td>\n",
       "      <td>102</td>\n",
       "      <td>5500</td>\n",
       "      <td>24</td>\n",
       "      <td>30</td>\n",
       "      <td>13950</td>\n",
       "    </tr>\n",
       "    <tr>\n",
       "      <th>3</th>\n",
       "      <td>2</td>\n",
       "      <td>164</td>\n",
       "      <td>audi</td>\n",
       "      <td>gas</td>\n",
       "      <td>std</td>\n",
       "      <td>four</td>\n",
       "      <td>sedan</td>\n",
       "      <td>4wd</td>\n",
       "      <td>front</td>\n",
       "      <td>99.4</td>\n",
       "      <td>...</td>\n",
       "      <td>136</td>\n",
       "      <td>mpfi</td>\n",
       "      <td>3.19</td>\n",
       "      <td>3.40</td>\n",
       "      <td>8.0</td>\n",
       "      <td>115</td>\n",
       "      <td>5500</td>\n",
       "      <td>18</td>\n",
       "      <td>22</td>\n",
       "      <td>17450</td>\n",
       "    </tr>\n",
       "    <tr>\n",
       "      <th>4</th>\n",
       "      <td>2</td>\n",
       "      <td>?</td>\n",
       "      <td>audi</td>\n",
       "      <td>gas</td>\n",
       "      <td>std</td>\n",
       "      <td>two</td>\n",
       "      <td>sedan</td>\n",
       "      <td>fwd</td>\n",
       "      <td>front</td>\n",
       "      <td>99.8</td>\n",
       "      <td>...</td>\n",
       "      <td>136</td>\n",
       "      <td>mpfi</td>\n",
       "      <td>3.19</td>\n",
       "      <td>3.40</td>\n",
       "      <td>8.5</td>\n",
       "      <td>110</td>\n",
       "      <td>5500</td>\n",
       "      <td>19</td>\n",
       "      <td>25</td>\n",
       "      <td>15250</td>\n",
       "    </tr>\n",
       "  </tbody>\n",
       "</table>\n",
       "<p>5 rows × 26 columns</p>\n",
       "</div>"
      ],
      "text/plain": [
       "   3    ?  alfa-romero  gas  std   two  convertible  rwd  front  88.60  ...  \\\n",
       "0  3    ?  alfa-romero  gas  std   two  convertible  rwd  front   88.6  ...   \n",
       "1  1    ?  alfa-romero  gas  std   two    hatchback  rwd  front   94.5  ...   \n",
       "2  2  164         audi  gas  std  four        sedan  fwd  front   99.8  ...   \n",
       "3  2  164         audi  gas  std  four        sedan  4wd  front   99.4  ...   \n",
       "4  2    ?         audi  gas  std   two        sedan  fwd  front   99.8  ...   \n",
       "\n",
       "   130  mpfi  3.47  2.68  9.00  111  5000  21  27  13495  \n",
       "0  130  mpfi  3.47  2.68   9.0  111  5000  21  27  16500  \n",
       "1  152  mpfi  2.68  3.47   9.0  154  5000  19  26  16500  \n",
       "2  109  mpfi  3.19  3.40  10.0  102  5500  24  30  13950  \n",
       "3  136  mpfi  3.19  3.40   8.0  115  5500  18  22  17450  \n",
       "4  136  mpfi  3.19  3.40   8.5  110  5500  19  25  15250  \n",
       "\n",
       "[5 rows x 26 columns]"
      ]
     },
     "execution_count": 2,
     "metadata": {},
     "output_type": "execute_result"
    }
   ],
   "source": [
    "# Données de l'office australien des impôts \n",
    "url_data = 'used_cars.csv'\n",
    "df = pd.read_csv(url_data) # Lecture du fichier csv\n",
    "df.head()  # Affichage des 5 premières lignes"
   ]
  },
  {
   "cell_type": "markdown",
   "metadata": {},
   "source": [
    "Les noms des colonnes ne sont pas définis dans ce jeu de données. Retrouvez les noms des colonnes au niveau de la source des données sur [UC Irvine Machine Learning Repository](https://archive.ics.uci.edu/ml/datasets/automobile)."
   ]
  },
  {
   "cell_type": "code",
   "execution_count": 3,
   "metadata": {},
   "outputs": [],
   "source": [
    "# Définition des entêtes\n",
    "headers = [\"symboling\",\"normalized-losses\",\"make\",\"fueltype\",\"aspiration\", \"num-of-doors\",\"body-style\", \"drive-wheels\",\n",
    "           \"engine-location\",\"wheelbase\", \"length\",\"width\",\"height\",\"curb-weight\",\"engine-type\",\"num-of-cylinders\", \n",
    "           \"engine-size\",\"fuelsystem\",\"bore\",\"stroke\",\"compression-ratio\",\"horsepower\", \"peak-rpm\",\"city-mpg\",\n",
    "           \"highway-mpg\",\"price\"]"
   ]
  },
  {
   "cell_type": "code",
   "execution_count": 4,
   "metadata": {},
   "outputs": [
    {
     "data": {
      "text/html": [
       "<div>\n",
       "<style scoped>\n",
       "    .dataframe tbody tr th:only-of-type {\n",
       "        vertical-align: middle;\n",
       "    }\n",
       "\n",
       "    .dataframe tbody tr th {\n",
       "        vertical-align: top;\n",
       "    }\n",
       "\n",
       "    .dataframe thead th {\n",
       "        text-align: right;\n",
       "    }\n",
       "</style>\n",
       "<table border=\"1\" class=\"dataframe\">\n",
       "  <thead>\n",
       "    <tr style=\"text-align: right;\">\n",
       "      <th></th>\n",
       "      <th>symboling</th>\n",
       "      <th>normalized-losses</th>\n",
       "      <th>make</th>\n",
       "      <th>fueltype</th>\n",
       "      <th>aspiration</th>\n",
       "      <th>num-of-doors</th>\n",
       "      <th>body-style</th>\n",
       "      <th>drive-wheels</th>\n",
       "      <th>engine-location</th>\n",
       "      <th>wheelbase</th>\n",
       "      <th>...</th>\n",
       "      <th>engine-size</th>\n",
       "      <th>fuelsystem</th>\n",
       "      <th>bore</th>\n",
       "      <th>stroke</th>\n",
       "      <th>compression-ratio</th>\n",
       "      <th>horsepower</th>\n",
       "      <th>peak-rpm</th>\n",
       "      <th>city-mpg</th>\n",
       "      <th>highway-mpg</th>\n",
       "      <th>price</th>\n",
       "    </tr>\n",
       "  </thead>\n",
       "  <tbody>\n",
       "    <tr>\n",
       "      <th>0</th>\n",
       "      <td>3</td>\n",
       "      <td>?</td>\n",
       "      <td>alfa-romero</td>\n",
       "      <td>gas</td>\n",
       "      <td>std</td>\n",
       "      <td>two</td>\n",
       "      <td>convertible</td>\n",
       "      <td>rwd</td>\n",
       "      <td>front</td>\n",
       "      <td>88.6</td>\n",
       "      <td>...</td>\n",
       "      <td>130</td>\n",
       "      <td>mpfi</td>\n",
       "      <td>3.47</td>\n",
       "      <td>2.68</td>\n",
       "      <td>9.0</td>\n",
       "      <td>111</td>\n",
       "      <td>5000</td>\n",
       "      <td>21</td>\n",
       "      <td>27</td>\n",
       "      <td>13495</td>\n",
       "    </tr>\n",
       "    <tr>\n",
       "      <th>1</th>\n",
       "      <td>3</td>\n",
       "      <td>?</td>\n",
       "      <td>alfa-romero</td>\n",
       "      <td>gas</td>\n",
       "      <td>std</td>\n",
       "      <td>two</td>\n",
       "      <td>convertible</td>\n",
       "      <td>rwd</td>\n",
       "      <td>front</td>\n",
       "      <td>88.6</td>\n",
       "      <td>...</td>\n",
       "      <td>130</td>\n",
       "      <td>mpfi</td>\n",
       "      <td>3.47</td>\n",
       "      <td>2.68</td>\n",
       "      <td>9.0</td>\n",
       "      <td>111</td>\n",
       "      <td>5000</td>\n",
       "      <td>21</td>\n",
       "      <td>27</td>\n",
       "      <td>16500</td>\n",
       "    </tr>\n",
       "    <tr>\n",
       "      <th>2</th>\n",
       "      <td>1</td>\n",
       "      <td>?</td>\n",
       "      <td>alfa-romero</td>\n",
       "      <td>gas</td>\n",
       "      <td>std</td>\n",
       "      <td>two</td>\n",
       "      <td>hatchback</td>\n",
       "      <td>rwd</td>\n",
       "      <td>front</td>\n",
       "      <td>94.5</td>\n",
       "      <td>...</td>\n",
       "      <td>152</td>\n",
       "      <td>mpfi</td>\n",
       "      <td>2.68</td>\n",
       "      <td>3.47</td>\n",
       "      <td>9.0</td>\n",
       "      <td>154</td>\n",
       "      <td>5000</td>\n",
       "      <td>19</td>\n",
       "      <td>26</td>\n",
       "      <td>16500</td>\n",
       "    </tr>\n",
       "    <tr>\n",
       "      <th>3</th>\n",
       "      <td>2</td>\n",
       "      <td>164</td>\n",
       "      <td>audi</td>\n",
       "      <td>gas</td>\n",
       "      <td>std</td>\n",
       "      <td>four</td>\n",
       "      <td>sedan</td>\n",
       "      <td>fwd</td>\n",
       "      <td>front</td>\n",
       "      <td>99.8</td>\n",
       "      <td>...</td>\n",
       "      <td>109</td>\n",
       "      <td>mpfi</td>\n",
       "      <td>3.19</td>\n",
       "      <td>3.40</td>\n",
       "      <td>10.0</td>\n",
       "      <td>102</td>\n",
       "      <td>5500</td>\n",
       "      <td>24</td>\n",
       "      <td>30</td>\n",
       "      <td>13950</td>\n",
       "    </tr>\n",
       "    <tr>\n",
       "      <th>4</th>\n",
       "      <td>2</td>\n",
       "      <td>164</td>\n",
       "      <td>audi</td>\n",
       "      <td>gas</td>\n",
       "      <td>std</td>\n",
       "      <td>four</td>\n",
       "      <td>sedan</td>\n",
       "      <td>4wd</td>\n",
       "      <td>front</td>\n",
       "      <td>99.4</td>\n",
       "      <td>...</td>\n",
       "      <td>136</td>\n",
       "      <td>mpfi</td>\n",
       "      <td>3.19</td>\n",
       "      <td>3.40</td>\n",
       "      <td>8.0</td>\n",
       "      <td>115</td>\n",
       "      <td>5500</td>\n",
       "      <td>18</td>\n",
       "      <td>22</td>\n",
       "      <td>17450</td>\n",
       "    </tr>\n",
       "  </tbody>\n",
       "</table>\n",
       "<p>5 rows × 26 columns</p>\n",
       "</div>"
      ],
      "text/plain": [
       "   symboling normalized-losses         make fueltype aspiration num-of-doors  \\\n",
       "0          3                 ?  alfa-romero      gas        std          two   \n",
       "1          3                 ?  alfa-romero      gas        std          two   \n",
       "2          1                 ?  alfa-romero      gas        std          two   \n",
       "3          2               164         audi      gas        std         four   \n",
       "4          2               164         audi      gas        std         four   \n",
       "\n",
       "    body-style drive-wheels engine-location  wheelbase  ...  engine-size  \\\n",
       "0  convertible          rwd           front       88.6  ...          130   \n",
       "1  convertible          rwd           front       88.6  ...          130   \n",
       "2    hatchback          rwd           front       94.5  ...          152   \n",
       "3        sedan          fwd           front       99.8  ...          109   \n",
       "4        sedan          4wd           front       99.4  ...          136   \n",
       "\n",
       "   fuelsystem  bore  stroke compression-ratio horsepower  peak-rpm city-mpg  \\\n",
       "0        mpfi  3.47    2.68               9.0        111      5000       21   \n",
       "1        mpfi  3.47    2.68               9.0        111      5000       21   \n",
       "2        mpfi  2.68    3.47               9.0        154      5000       19   \n",
       "3        mpfi  3.19    3.40              10.0        102      5500       24   \n",
       "4        mpfi  3.19    3.40               8.0        115      5500       18   \n",
       "\n",
       "  highway-mpg  price  \n",
       "0          27  13495  \n",
       "1          27  16500  \n",
       "2          26  16500  \n",
       "3          30  13950  \n",
       "4          22  17450  \n",
       "\n",
       "[5 rows x 26 columns]"
      ]
     },
     "execution_count": 4,
     "metadata": {},
     "output_type": "execute_result"
    }
   ],
   "source": [
    "# Relecture des données avec les entêtes\n",
    "df = pd.read_csv(url_data, names = headers)\n",
    "df.head()  # Affichage des 5 premières lignes"
   ]
  },
  {
   "cell_type": "markdown",
   "metadata": {},
   "source": [
    "NB : Les points d'interrogation dans le jeu de données représentent les valeurs manquantes."
   ]
  },
  {
   "cell_type": "code",
   "execution_count": 5,
   "metadata": {},
   "outputs": [
    {
     "name": "stdout",
     "output_type": "stream",
     "text": [
      "<class 'pandas.core.frame.DataFrame'>\n",
      "RangeIndex: 205 entries, 0 to 204\n",
      "Data columns (total 26 columns):\n",
      " #   Column             Non-Null Count  Dtype  \n",
      "---  ------             --------------  -----  \n",
      " 0   symboling          205 non-null    int64  \n",
      " 1   normalized-losses  205 non-null    object \n",
      " 2   make               205 non-null    object \n",
      " 3   fueltype           205 non-null    object \n",
      " 4   aspiration         205 non-null    object \n",
      " 5   num-of-doors       205 non-null    object \n",
      " 6   body-style         205 non-null    object \n",
      " 7   drive-wheels       205 non-null    object \n",
      " 8   engine-location    205 non-null    object \n",
      " 9   wheelbase          205 non-null    float64\n",
      " 10  length             205 non-null    float64\n",
      " 11  width              205 non-null    float64\n",
      " 12  height             205 non-null    float64\n",
      " 13  curb-weight        205 non-null    int64  \n",
      " 14  engine-type        205 non-null    object \n",
      " 15  num-of-cylinders   205 non-null    object \n",
      " 16  engine-size        205 non-null    int64  \n",
      " 17  fuelsystem         205 non-null    object \n",
      " 18  bore               205 non-null    object \n",
      " 19  stroke             205 non-null    object \n",
      " 20  compression-ratio  205 non-null    float64\n",
      " 21  horsepower         205 non-null    object \n",
      " 22  peak-rpm           205 non-null    object \n",
      " 23  city-mpg           205 non-null    int64  \n",
      " 24  highway-mpg        205 non-null    int64  \n",
      " 25  price              205 non-null    object \n",
      "dtypes: float64(5), int64(5), object(16)\n",
      "memory usage: 41.8+ KB\n"
     ]
    }
   ],
   "source": [
    "# Affichage des informations sur les données\n",
    "df.info()  "
   ]
  },
  {
   "cell_type": "markdown",
   "metadata": {},
   "source": [
    "NB : Nous allons remplacer ces points d'interrogation par des NaN (Not a Number) pour faciliter le traitement des données.\n",
    "Nous constatons aussi que la variable price est de type object. Nous allons la convertir en float."
   ]
  },
  {
   "cell_type": "code",
   "execution_count": 6,
   "metadata": {},
   "outputs": [
    {
     "name": "stdout",
     "output_type": "stream",
     "text": [
      "<class 'pandas.core.frame.DataFrame'>\n",
      "RangeIndex: 205 entries, 0 to 204\n",
      "Data columns (total 26 columns):\n",
      " #   Column             Non-Null Count  Dtype  \n",
      "---  ------             --------------  -----  \n",
      " 0   symboling          205 non-null    int64  \n",
      " 1   normalized-losses  164 non-null    object \n",
      " 2   make               205 non-null    object \n",
      " 3   fueltype           205 non-null    object \n",
      " 4   aspiration         205 non-null    object \n",
      " 5   num-of-doors       203 non-null    object \n",
      " 6   body-style         205 non-null    object \n",
      " 7   drive-wheels       205 non-null    object \n",
      " 8   engine-location    205 non-null    object \n",
      " 9   wheelbase          205 non-null    float64\n",
      " 10  length             205 non-null    float64\n",
      " 11  width              205 non-null    float64\n",
      " 12  height             205 non-null    float64\n",
      " 13  curb-weight        205 non-null    int64  \n",
      " 14  engine-type        205 non-null    object \n",
      " 15  num-of-cylinders   205 non-null    object \n",
      " 16  engine-size        205 non-null    int64  \n",
      " 17  fuelsystem         205 non-null    object \n",
      " 18  bore               201 non-null    object \n",
      " 19  stroke             201 non-null    object \n",
      " 20  compression-ratio  205 non-null    float64\n",
      " 21  horsepower         203 non-null    object \n",
      " 22  peak-rpm           203 non-null    object \n",
      " 23  city-mpg           205 non-null    int64  \n",
      " 24  highway-mpg        205 non-null    int64  \n",
      " 25  price              201 non-null    object \n",
      "dtypes: float64(5), int64(5), object(16)\n",
      "memory usage: 41.8+ KB\n"
     ]
    }
   ],
   "source": [
    "df.replace(\"?\", np.nan, inplace = True) # Remplacement des valeurs manquantes par NaN\n",
    "df.info()  # Affichage des informations sur les données"
   ]
  },
  {
   "cell_type": "markdown",
   "metadata": {},
   "source": [
    "NB : Nous avons mis en évidence les valeurs manquantes. Par exemple, pour la ligne \"normalized losses\", il y a 164 valeurs au lieu de 205 initialement."
   ]
  },
  {
   "cell_type": "code",
   "execution_count": 7,
   "metadata": {},
   "outputs": [
    {
     "data": {
      "text/plain": [
       "symboling             0\n",
       "normalized-losses    41\n",
       "make                  0\n",
       "fueltype              0\n",
       "aspiration            0\n",
       "num-of-doors          2\n",
       "body-style            0\n",
       "drive-wheels          0\n",
       "engine-location       0\n",
       "wheelbase             0\n",
       "length                0\n",
       "width                 0\n",
       "height                0\n",
       "curb-weight           0\n",
       "engine-type           0\n",
       "num-of-cylinders      0\n",
       "engine-size           0\n",
       "fuelsystem            0\n",
       "bore                  4\n",
       "stroke                4\n",
       "compression-ratio     0\n",
       "horsepower            2\n",
       "peak-rpm              2\n",
       "city-mpg              0\n",
       "highway-mpg           0\n",
       "price                 4\n",
       "dtype: int64"
      ]
     },
     "execution_count": 7,
     "metadata": {},
     "output_type": "execute_result"
    }
   ],
   "source": [
    "# Affichage du nombre de valeurs manquantes par colonne\n",
    "df.isnull().sum()  "
   ]
  },
  {
   "cell_type": "markdown",
   "metadata": {},
   "source": [
    "### <font color=\"red\">Nettoyage des données</font>"
   ]
  },
  {
   "cell_type": "code",
   "execution_count": 8,
   "metadata": {},
   "outputs": [
    {
     "data": {
      "text/plain": [
       "symboling            0\n",
       "normalized-losses    0\n",
       "make                 0\n",
       "fueltype             0\n",
       "aspiration           0\n",
       "num-of-doors         0\n",
       "body-style           0\n",
       "drive-wheels         0\n",
       "engine-location      0\n",
       "wheelbase            0\n",
       "length               0\n",
       "width                0\n",
       "height               0\n",
       "curb-weight          0\n",
       "engine-type          0\n",
       "num-of-cylinders     0\n",
       "engine-size          0\n",
       "fuelsystem           0\n",
       "bore                 0\n",
       "stroke               0\n",
       "compression-ratio    0\n",
       "horsepower           0\n",
       "peak-rpm             0\n",
       "city-mpg             0\n",
       "highway-mpg          0\n",
       "price                0\n",
       "dtype: int64"
      ]
     },
     "execution_count": 8,
     "metadata": {},
     "output_type": "execute_result"
    }
   ],
   "source": [
    "# Suppression des lignes avec des valeurs manquantes\n",
    "df.dropna(inplace = True)\n",
    "df.isnull().sum() "
   ]
  },
  {
   "cell_type": "code",
   "execution_count": 9,
   "metadata": {},
   "outputs": [
    {
     "name": "stdout",
     "output_type": "stream",
     "text": [
      "<class 'pandas.core.frame.DataFrame'>\n",
      "Index: 159 entries, 3 to 204\n",
      "Data columns (total 26 columns):\n",
      " #   Column             Non-Null Count  Dtype  \n",
      "---  ------             --------------  -----  \n",
      " 0   symboling          159 non-null    int64  \n",
      " 1   normalized-losses  159 non-null    object \n",
      " 2   make               159 non-null    object \n",
      " 3   fueltype           159 non-null    object \n",
      " 4   aspiration         159 non-null    object \n",
      " 5   num-of-doors       159 non-null    object \n",
      " 6   body-style         159 non-null    object \n",
      " 7   drive-wheels       159 non-null    object \n",
      " 8   engine-location    159 non-null    object \n",
      " 9   wheelbase          159 non-null    float64\n",
      " 10  length             159 non-null    float64\n",
      " 11  width              159 non-null    float64\n",
      " 12  height             159 non-null    float64\n",
      " 13  curb-weight        159 non-null    int64  \n",
      " 14  engine-type        159 non-null    object \n",
      " 15  num-of-cylinders   159 non-null    object \n",
      " 16  engine-size        159 non-null    int64  \n",
      " 17  fuelsystem         159 non-null    object \n",
      " 18  bore               159 non-null    object \n",
      " 19  stroke             159 non-null    object \n",
      " 20  compression-ratio  159 non-null    float64\n",
      " 21  horsepower         159 non-null    object \n",
      " 22  peak-rpm           159 non-null    object \n",
      " 23  city-mpg           159 non-null    int64  \n",
      " 24  highway-mpg        159 non-null    int64  \n",
      " 25  price              159 non-null    float64\n",
      "dtypes: float64(6), int64(5), object(15)\n",
      "memory usage: 33.5+ KB\n"
     ]
    }
   ],
   "source": [
    "# Conversion du type de donnée de la colonne price en float\n",
    "df.price = df.price.astype(\"float\")\n",
    "df.info()  # Affichage des informations sur les données"
   ]
  },
  {
   "cell_type": "markdown",
   "metadata": {},
   "source": [
    "### <font color=\"red\">Construction d'un modèle de Machine Learning</font>"
   ]
  },
  {
   "cell_type": "markdown",
   "metadata": {},
   "source": [
    "Pour ce cours d'initiation à la création d'un modèle de Machine Learning, nous allons utiliser la régression linéaire avec comme variable cible \"price\" (le prix de vente d'une voiture d'occasion) et comme variable indépendante la variable \"curb-weight\" (poids à vide de la voiture)."
   ]
  },
  {
   "cell_type": "markdown",
   "metadata": {},
   "source": [
    "Ci-dessous, une bibliothèque de fonctions personnalisées que nous allons utiliser pour visualiser les données et créer le modèle de régression linéaire."
   ]
  },
  {
   "cell_type": "code",
   "execution_count": 10,
   "metadata": {},
   "outputs": [],
   "source": [
    "# Définition de la classe Plotter pour visualiser les données et la droite de régression\n",
    "class XYPlotter:\n",
    "    def __init__(self, x_label='X', y_label='Y', title='Linear Regression'):\n",
    "        self.xMax = 100 # unité maximale en largeur par défaut\n",
    "        self.yMax = 100 # unité maximale en hauteur par défaut\n",
    "        self.xMin = 0 # unité minimale en hauteur par défaut\n",
    "        self.yMin = 0 # unité minimale en hauteur par défaut\n",
    "        self.x_label = x_label\n",
    "        self.y_label = y_label\n",
    "        self.title = title\n",
    "        # Créer une figure et un axe avec une taille spécifiée\n",
    "        self.fig, self.ax = plt.subplots(figsize=(10, 6))  # Taille de la figure en pouces (largeur, hauteur)\n",
    "\n",
    "    def plot_points(self, xArr, yArr, color=\"blue\"):\n",
    "        self.xMax = max(xArr)\n",
    "        self.yMax = max(yArr)\n",
    "        self.xMin = min(xArr)\n",
    "        self.yMin = min(yArr)\n",
    "        self.ax.set_xlabel(self.x_label)\n",
    "        self.ax.set_ylabel(self.y_label)\n",
    "        self.ax.set_title(self.title)\n",
    "        self.ax.grid(True)\n",
    "        self.ax.scatter(xArr, yArr, color=color)\n",
    "\n",
    "    def plot_reg_line(self, weight, bias, color=\"red\"):\n",
    "        x_vals = [self.xMin, self.xMax]\n",
    "        y_vals = [self.xMin*weight+bias, self.xMax*weight+bias]\n",
    "        self.ax.plot(x_vals, y_vals, color=color)\n",
    "\n",
    "    def show(self):\n",
    "        self.ax.set_xlim(0, self.xMax) # Limites de l'axe x\n",
    "        self.ax.set_ylim(0, self.yMax) # Limites de l'axe y\n",
    "        plt.show()\n",
    "\n",
    "\n",
    "# Définition de la classe CreateLinearRegression gérer le modèle de régression linéaire\n",
    "class CreateLinearRegression:\n",
    "    def __init__(self, xArr, yArr):\n",
    "        self.xArr = xArr\n",
    "        self.yArr = yArr\n",
    "        self.nb_points = len(xArr)\n",
    "        self.weight = 0\n",
    "        self.bias = 0\n",
    "\n",
    "    def train(self):\n",
    "        # Moyenne de xArr\n",
    "        xArrMean = sum(self.xArr) / self.nb_points\n",
    "        # Moyenne de yArr\n",
    "        yArrMean = sum(self.yArr) / self.nb_points\n",
    "        # Calcul des x_i - x_mean\n",
    "        xArr_sub_xArrMean = [x - xArrMean for x in self.xArr]\n",
    "        # Calcul des y_i - y_mean\n",
    "        yArr_sub_yArrMean = [y - yArrMean for y in self.yArr]\n",
    "        # Calcul des (x_i - x_mean)^2\n",
    "        xArr_sub_xArrMean_squared = [x**2 for x in xArr_sub_xArrMean]\n",
    "        # Calcul des (x_i - x_mean)(y_i - y_mean)\n",
    "        xArr_sub_xArrMean_yArr_sub_yArrMean = [x * y for x, y in zip(xArr_sub_xArrMean, yArr_sub_yArrMean)]\n",
    "        # Pente de la droite de régression de y sur x\n",
    "        self.weight = sum(xArr_sub_xArrMean_yArr_sub_yArrMean) / sum(xArr_sub_xArrMean_squared)\n",
    "        # Ordonnée à l'origine de la droite de régression de y sur x\n",
    "        self.bias = yArrMean - self.weight * xArrMean\n",
    "        return (self.weight, self.bias)\n",
    "    \n",
    "    def correlation(self):\n",
    "        # Calcul de la covariance\n",
    "        cov = sum(x*y for x, y in zip(self.xArr, self.yArr)) / self.nb_points - sum(self.xArr) * sum(self.yArr) / self.nb_points**2\n",
    "        # Calcul de la variance de xArr\n",
    "        var_x = sum(x**2 for x in self.xArr) / self.nb_points - (sum(self.xArr) / self.nb_points)**2\n",
    "        # Calcul de la variance de yArr\n",
    "        var_y = sum(y**2 for y in self.yArr) / self.nb_points - (sum(self.yArr) / self.nb_points)**2\n",
    "        # Coefficient de corrélation : cov² / (var_x * var_y)\n",
    "        r = cov / (var_x * var_y)**0.5\n",
    "        return r\n",
    "    \n",
    "    def save_model(self, model_name):\n",
    "        jb.dump((self.weight, self.bias), model_name)\n",
    "\n",
    "    def load_model(self, model_name):\n",
    "        self.weight, self.bias = jb.load(model_name)\n",
    "        return (self.weight, self.bias)\n",
    "    \n",
    "    def predict(self, x):\n",
    "        return self.weight * x + self.bias\n",
    "    \n",
    "\n",
    "# Fonction pour afficher les caractéristiques du modèle\n",
    "def display_features(weight, bias):\n",
    "    print(f\"Slope (weight): {weight}\")\n",
    "    print(f\"Intercept (bias): {bias}\")\n",
    "    "
   ]
  },
  {
   "cell_type": "code",
   "execution_count": 11,
   "metadata": {},
   "outputs": [],
   "source": [
    "# Préparation des données\n",
    "X = df[\"curb-weight\"]  # Variable indépendante en entrée\n",
    "y = df[\"price\"]  # Variable dépendante en sortie\n"
   ]
  },
  {
   "cell_type": "code",
   "execution_count": 12,
   "metadata": {},
   "outputs": [
    {
     "data": {
      "image/png": "[encoded data removed]",
      "text/plain": [
       "<Figure size 1000x600 with 1 Axes>"
      ]
     },
     "metadata": {},
     "output_type": "display_data"
    }
   ],
   "source": [
    "# Visualisation de la relation entre la variable \"price\" et la variable \"curb-weight\"\n",
    "# Initialisation du plotter\n",
    "plotter = XYPlotter(x_label='Curb-Weight', y_label='Price', title=\"Relation entre 'curb-weight' (en Kg) et 'price' (en dollars)\")\n",
    "    \n",
    "# Visualisation des données\n",
    "plotter.plot_points(X, y)\n"
   ]
  },
  {
   "cell_type": "markdown",
   "metadata": {},
   "source": [
    "**Interprétation du graphique** <br>\n",
    "Ce graphique montre la relation entre le poids à vide d'un véhicule (en anglais \"curb-weight\") sur l'axe des abscisses (x) et le prix du véhicule (en anglais \"price\") sur l'axe des ordonnées (y). Il s'agit d'un nuage de points (scatter plot) avec chaque point représentant un véhicule.\n",
    "\n",
    "**Points clés :**\n",
    "- Poids à vide (\"curb-weight\") : Les valeurs sur l'axe des x vont d'environ 1500 à 4100.\n",
    "- Prix (\"price\") : Les prix vont de 5000 à plus de 35000 sur l'axe des y.\n",
    "- Tendance générale : Il semble qu'à mesure que le poids à vide du véhicule augmente, le prix a tendance à augmenter également. Cela suggère que les véhicules plus lourds ont tendance à être plus chers. Cependant, il y a des points éparpillés. Cela montre qu'il existe des exceptions à cette tendance."
   ]
  },
  {
   "cell_type": "code",
   "execution_count": 13,
   "metadata": {},
   "outputs": [
    {
     "name": "stdout",
     "output_type": "stream",
     "text": [
      "Slope (weight): 10.899007035334945\n",
      "Intercept (bias): -15378.234792920166\n"
     ]
    },
    {
     "data": {
      "image/png": "[encoded data removed]",
      "text/plain": [
       "<Figure size 1000x600 with 1 Axes>"
      ]
     },
     "metadata": {},
     "output_type": "display_data"
    }
   ],
   "source": [
    "# Création du modèle avec les données d'entrée et de sortie\n",
    "model = CreateLinearRegression(X, y)\n",
    "\n",
    "# Entraînement du modèle\n",
    "model.train()\n",
    "\n",
    "# Initialisation du plotter\n",
    "plotter = XYPlotter(x_label='Curb-Weight', y_label='Price', title=\"Relation entre 'curb-weight' (en Kg) et 'price' (en dollars)\")\n",
    "\n",
    "# Visualisation des données\n",
    "plotter.plot_points(X, y)\n",
    "\n",
    "# Visualisation de la droite de régression linéaire\n",
    "plotter.plot_reg_line(model.weight, model.bias)\n",
    "  \n",
    "# Affichage des caractéristiques du modèle\n",
    "display_features(model.weight, model.bias)\n"
   ]
  },
  {
   "cell_type": "markdown",
   "metadata": {},
   "source": [
    "**Interpétation de la pente de la droite de régression linéaire :** La pente de la droite de régression linéaire est positive. Cela signifie que pour chaque augmentation de 1Kg du poids à vide du véhicule, le prix du véhicule augmente en moyenne de 10.90 dollars."
   ]
  },
  {
   "cell_type": "code",
   "execution_count": 14,
   "metadata": {},
   "outputs": [
    {
     "name": "stdout",
     "output_type": "stream",
     "text": [
      "Coefficient de corrélation r =  0.8936390528402949\n"
     ]
    }
   ],
   "source": [
    "# Performance du modèle\n",
    "r = model.correlation()\n",
    "print(\"Coefficient de corrélation r = \", r) # r est le coefficient de corrélation. C'est une métrique (parmi d'autres) qui permet de mesurer la performance du modèle de régression linéaire."
   ]
  },
  {
   "cell_type": "markdown",
   "metadata": {},
   "source": [
    "Un coefficient de corrélation de 0.8936 (donc supérieur à 0.85) montre qu'il y a une forte corrélation entre le prix des véhicules et leur poids à vide.  Cela signifie que le poids à vide des véhicules est très probablement un bon prédicteur du prix des véhicules. De plus, le coefficient de corrélation est positif, ce qui signifie que les véhicules plus lourds ont tendance à être plus chers."
   ]
  },
  {
   "cell_type": "markdown",
   "metadata": {},
   "source": [
    "### <font color=\"red\">Estimations de nouvelles données par extrapolation</font> <br>"
   ]
  },
  {
   "cell_type": "code",
   "execution_count": 15,
   "metadata": {},
   "outputs": [
    {
     "data": {
      "text/html": [
       "<div>\n",
       "<style scoped>\n",
       "    .dataframe tbody tr th:only-of-type {\n",
       "        vertical-align: middle;\n",
       "    }\n",
       "\n",
       "    .dataframe tbody tr th {\n",
       "        vertical-align: top;\n",
       "    }\n",
       "\n",
       "    .dataframe thead th {\n",
       "        text-align: right;\n",
       "    }\n",
       "</style>\n",
       "<table border=\"1\" class=\"dataframe\">\n",
       "  <thead>\n",
       "    <tr style=\"text-align: right;\">\n",
       "      <th></th>\n",
       "      <th>curb-weight</th>\n",
       "    </tr>\n",
       "  </thead>\n",
       "  <tbody>\n",
       "    <tr>\n",
       "      <th>0</th>\n",
       "      <td>3500</td>\n",
       "    </tr>\n",
       "    <tr>\n",
       "      <th>1</th>\n",
       "      <td>6800</td>\n",
       "    </tr>\n",
       "  </tbody>\n",
       "</table>\n",
       "</div>"
      ],
      "text/plain": [
       "   curb-weight\n",
       "0         3500\n",
       "1         6800"
      ]
     },
     "execution_count": 15,
     "metadata": {},
     "output_type": "execute_result"
    }
   ],
   "source": [
    "# Deux nouvelles voitures dont les poids à vide sont respectivement égaux à 3500 Kg et 6800 Kg\n",
    "nouvelles_voitures = pd.DataFrame({\"curb-weight\": [3500, 6800]})\n",
    "nouvelles_voitures"
   ]
  },
  {
   "cell_type": "code",
   "execution_count": 16,
   "metadata": {},
   "outputs": [
    {
     "data": {
      "text/html": [
       "<div>\n",
       "<style scoped>\n",
       "    .dataframe tbody tr th:only-of-type {\n",
       "        vertical-align: middle;\n",
       "    }\n",
       "\n",
       "    .dataframe tbody tr th {\n",
       "        vertical-align: top;\n",
       "    }\n",
       "\n",
       "    .dataframe thead th {\n",
       "        text-align: right;\n",
       "    }\n",
       "</style>\n",
       "<table border=\"1\" class=\"dataframe\">\n",
       "  <thead>\n",
       "    <tr style=\"text-align: right;\">\n",
       "      <th></th>\n",
       "      <th>curb-weight</th>\n",
       "    </tr>\n",
       "  </thead>\n",
       "  <tbody>\n",
       "    <tr>\n",
       "      <th>0</th>\n",
       "      <td>22768.289831</td>\n",
       "    </tr>\n",
       "    <tr>\n",
       "      <th>1</th>\n",
       "      <td>58735.013047</td>\n",
       "    </tr>\n",
       "  </tbody>\n",
       "</table>\n",
       "</div>"
      ],
      "text/plain": [
       "    curb-weight\n",
       "0  22768.289831\n",
       "1  58735.013047"
      ]
     },
     "execution_count": 16,
     "metadata": {},
     "output_type": "execute_result"
    }
   ],
   "source": [
    "# Estimation des prix des deux nouvelles voitures\n",
    "prix_estimés = model.predict(nouvelles_voitures)\n",
    "prix_estimés"
   ]
  },
  {
   "cell_type": "markdown",
   "metadata": {},
   "source": [
    "### <font color=\"red\">Sauvegarde, chargement et vérification du modèle</font>"
   ]
  },
  {
   "cell_type": "code",
   "execution_count": 17,
   "metadata": {},
   "outputs": [
    {
     "data": {
      "text/plain": [
       "['car_model.pkl']"
      ]
     },
     "execution_count": 17,
     "metadata": {},
     "output_type": "execute_result"
    }
   ],
   "source": [
    "# Sauvegarde du modèle entraîné\n",
    "jb.dump(model, \"car_model.pkl\")"
   ]
  },
  {
   "cell_type": "code",
   "execution_count": 18,
   "metadata": {},
   "outputs": [
    {
     "name": "stdout",
     "output_type": "stream",
     "text": [
      "Pente :  10.899007035334945\n",
      "Ordonnée à l'origine :  -15378.234792920166\n"
     ]
    }
   ],
   "source": [
    "# Chargement du modèle sauvegardé\n",
    "model_loaded = jb.load(\"car_model.pkl\")\n",
    "\n",
    "# Vérification du modèle chargé\n",
    "print(\"Pente : \", model_loaded.weight)\n",
    "print(\"Ordonnée à l'origine : \", model_loaded.bias)"
   ]
  },
  {
   "cell_type": "code",
   "execution_count": 19,
   "metadata": {},
   "outputs": [
    {
     "data": {
      "text/html": [
       "<div>\n",
       "<style scoped>\n",
       "    .dataframe tbody tr th:only-of-type {\n",
       "        vertical-align: middle;\n",
       "    }\n",
       "\n",
       "    .dataframe tbody tr th {\n",
       "        vertical-align: top;\n",
       "    }\n",
       "\n",
       "    .dataframe thead th {\n",
       "        text-align: right;\n",
       "    }\n",
       "</style>\n",
       "<table border=\"1\" class=\"dataframe\">\n",
       "  <thead>\n",
       "    <tr style=\"text-align: right;\">\n",
       "      <th></th>\n",
       "      <th>curb-weight</th>\n",
       "    </tr>\n",
       "  </thead>\n",
       "  <tbody>\n",
       "    <tr>\n",
       "      <th>0</th>\n",
       "      <td>22768.289831</td>\n",
       "    </tr>\n",
       "    <tr>\n",
       "      <th>1</th>\n",
       "      <td>58735.013047</td>\n",
       "    </tr>\n",
       "  </tbody>\n",
       "</table>\n",
       "</div>"
      ],
      "text/plain": [
       "    curb-weight\n",
       "0  22768.289831\n",
       "1  58735.013047"
      ]
     },
     "execution_count": 19,
     "metadata": {},
     "output_type": "execute_result"
    }
   ],
   "source": [
    "# Utilisation du modèle chargé pour estimer le prix des deux nouvelles voitures\n",
    "estimated_price = model_loaded.predict(nouvelles_voitures)\n",
    "estimated_price"
   ]
  },
  {
   "cell_type": "markdown",
   "metadata": {},
   "source": [
    "### <font color=\"red\">Implémentation du modèle dans une application</font>"
   ]
  },
  {
   "cell_type": "code",
   "execution_count": 20,
   "metadata": {},
   "outputs": [
    {
     "name": "stdout",
     "output_type": "stream",
     "text": [
      "Utilisateur :  acheteur\n",
      "Prix voiture :  21000.0\n",
      "Prix estimé :  22768.289830752146\n",
      "Vous allez faire une bonne affaire car pour une voiture avec ce poids à vide, notre modèle estime un prix égal à $22768.29\n"
     ]
    }
   ],
   "source": [
    "# Construction d'une fonction montrant le fonctionnement de l'application (voir scénario)\n",
    "\n",
    " # Chargement du modèle\n",
    "model_loaded = jb.load(\"car_model.pkl\")\n",
    "\n",
    "# Fonction principale de l'application\n",
    "def app():\n",
    "    utilisateur = input(\"Vous êtes un acheteur ou un vendeur ? ('acheteur'/'vendeur')\\n>>>\")\n",
    "    if utilisateur not in ['acheteur', 'vendeur']:\n",
    "        print(\"Veuillez saisir soit 'acheteur' soit 'vendeur' à la première question. Merci de relancer le programme.\")\n",
    "        return\n",
    "    poids_a_vide = float(input(\"Entrez le poids à vide de la voiture\\n>>>\"))\n",
    "    prix_annonce = float(input(\"Entrez le prix de la voiture\\n>>>\"))\n",
    "    print(\"Utilisateur : \", utilisateur)\n",
    "    print(\"Prix voiture : \", prix_annonce)\n",
    "    prix_estime = estimer_prix(poids_a_vide)\n",
    "    print(\"Prix estimé : \", prix_estime)\n",
    "    afficher_resultat(prix_annonce, prix_estime, utilisateur)\n",
    "\n",
    "# Fonction de calcul du prix\n",
    "def estimer_prix(poids_a_vide):\n",
    "    prix_estime = model_loaded.predict(pd.DataFrame({'curb-weight':[poids_a_vide]}))\n",
    "    return prix_estime[\"curb-weight\"][0]\n",
    "\n",
    "# Fonction d'affichage du résultat\n",
    "def afficher_resultat(prix_annonce, prix_estime, utilisateur):\n",
    "    if utilisateur == 'acheteur':\n",
    "        message = \"Vous allez faire une bonne affaire\" if prix_annonce <= prix_estime else \"Le prix affiché sur l'annonce est élevé\"\n",
    "    else:\n",
    "        if prix_annonce == prix_estime:\n",
    "            message = \"Le prix de vente de votre voiture est correct\"\n",
    "        else:\n",
    "            message = \"Le prix de vente de votre voiture est faible\" if prix_annonce < prix_estime else \"Le prix de vente de votre voiture est élevé\"\n",
    "    print(f\"{message} car pour une voiture avec ce poids à vide, notre modèle estime un prix égal à ${round(prix_estime, 2)}\")\n",
    "\n",
    "app()\n"
   ]
  },
  {
   "cell_type": "code",
   "execution_count": null,
   "metadata": {},
   "outputs": [],
   "source": []
  }
 ],
 "metadata": {
  "kernelspec": {
   "display_name": "base",
   "language": "python",
   "name": "python3"
  },
  "language_info": {
   "codemirror_mode": {
    "name": "ipython",
    "version": 3
   },
   "file_extension": ".py",
   "mimetype": "text/x-python",
   "name": "python",
   "nbconvert_exporter": "python",
   "pygments_lexer": "ipython3",
   "version": "3.11.5"
  }
 },
 "nbformat": 4,
 "nbformat_minor": 2
}
